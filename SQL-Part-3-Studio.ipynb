{
    "metadata": {
        "kernelspec": {
            "name": "SQL",
            "display_name": "SQL",
            "language": "sql"
        },
        "language_info": {
            "name": "sql",
            "version": ""
        },
        "extensions": {
            "azuredatastudio": {
                "version": 1,
                "views": []
            }
        }
    },
    "nbformat_minor": 2,
    "nbformat": 4,
    "cells": [
        {
            "cell_type": "markdown",
            "source": [
                "# SQL Part 3 Studio\n",
                "\n",
                "### Let's practice your SQL quering skills!  For each question, work along in the notebook adding your query and answering the questions. \n",
                "\n",
                "### **DataSet**\n",
                "\n",
                "### <span style=\"font-size: 14px; font-family: -apple-system, BlinkMacSystemFont, sans-serif;\">We will be using the Goodbooks-10k dataset from the exercises in the prep work.&nbsp; Feel free reference your previous notebooks.</span>\n",
                "\n",
                "- The dataset can be found here: [goodbooks-10k](https://www.kaggle.com/zygmunt/goodbooks-10k)\n",
                "- You can access the **BooksDB** in the Launchcode server.\n",
                "\n",
                "### **Business Issue**\n",
                "\n",
                "You are an employee at a small independet bookstore and you have been tasked to increase sales.  You decide to use the BooksDB to find books and themes to highlight in fun promotions throughout each month / season.  We will be starting with March and then you will have a chance to explore another month of your choosing.  We want to come up with a list of events/ promotions to run each month.  If you are looking for ideas to include in your promotions:\n",
                "\n",
                "- [https://www.calendarr.com/united-states/calendar-2022/](https://www.calendarr.com/united-states/calendar-2022/)\n",
                "- [https://www.holidayinsights.com/moreholidays/](https://www.holidayinsights.com/moreholidays/)\n",
                "    - Click on a month and it will take you to a more detailed page"
            ],
            "metadata": {
                "azdata_cell_guid": "b9034d8a-b631-48bf-a895-1012a6ffa784"
            },
            "attachments": {}
        },
        {
            "cell_type": "markdown",
            "source": [
                "## Part 1:  March - Women's History Month, Dr Seuss Day(3/2), National Pie Day3/14, St Patrick's Day (3/17), Season - Spring"
            ],
            "metadata": {
                "azdata_cell_guid": "6e55eb1c-4a14-4076-90d2-95ed17a6309f"
            },
            "attachments": {}
        },
        {
            "cell_type": "markdown",
            "source": [
                "### **Event 1:** Women's History Month\n",
                "\n",
                "Goal: Highlight Popular Womans Authors based on ratings from the Good Reads DB.\n",
                "\n",
                "### **Write a query that returns tag\\_id, the number of times each tag\\_id is used and the tag\\_name.**  \n",
                "\n",
                "### Use the GROUP BY and HAVING clause to narrow your focus.\n",
                "\n",
                "Try multiple keywords, ie woman vs female (female ended up giving better results)"
            ],
            "metadata": {
                "azdata_cell_guid": "d220c097-e9cf-4edd-9abe-312d071217b7"
            },
            "attachments": {}
        },
        {
            "cell_type": "code",
            "source": [
                "select t.tag_id,count(*)'tag id count',tag_name from BooksDB.dbo.book_tags bt Full join BooksDB.dbo.tags t \r\n",
                "on bt.tag_id=t.tag_id\r\n",
                "group by t.tag_id,tag_name\r\n",
                "having t.tag_name like '%Woman%'\r\n",
                "order by [tag id count] desc"
            ],
            "metadata": {
                "azdata_cell_guid": "e31b9d26-0386-44c7-828e-85f4f06f3ee6",
                "language": "sql",
                "tags": []
            },
            "outputs": [
                {
                    "output_type": "display_data",
                    "data": {
                        "text/html": "(24 rows affected)"
                    },
                    "metadata": {}
                },
                {
                    "output_type": "display_data",
                    "data": {
                        "text/html": "Total execution time: 00:00:00.235"
                    },
                    "metadata": {}
                },
                {
                    "output_type": "execute_result",
                    "metadata": {},
                    "execution_count": 11,
                    "data": {
                        "application/vnd.dataresource+json": {
                            "schema": {
                                "fields": [
                                    {
                                        "name": "tag_id"
                                    },
                                    {
                                        "name": "tag id count"
                                    },
                                    {
                                        "name": "tag_name"
                                    }
                                ]
                            },
                            "data": [
                                {
                                    "tag_id": "32681",
                                    "tag id count": "14",
                                    "tag_name": "woman-s-murder-club"
                                },
                                {
                                    "tag_id": "32683",
                                    "tag id count": "10",
                                    "tag_name": "womanhood"
                                },
                                {
                                    "tag_id": "19038",
                                    "tag id count": "8",
                                    "tag_name": "man-woman"
                                },
                                {
                                    "tag_id": "32685",
                                    "tag id count": "8",
                                    "tag_name": "womans-murder-club"
                                },
                                {
                                    "tag_id": "4455",
                                    "tag id count": "6",
                                    "tag_name": "biblical-womanhood"
                                },
                                {
                                    "tag_id": "22269",
                                    "tag id count": "5",
                                    "tag_name": "older-man-younger-woman"
                                },
                                {
                                    "tag_id": "22271",
                                    "tag id count": "4",
                                    "tag_name": "older-woman-younger-man"
                                },
                                {
                                    "tag_id": "32740",
                                    "tag id count": "4",
                                    "tag_name": "wonder-woman"
                                },
                                {
                                    "tag_id": "5132",
                                    "tag id count": "2",
                                    "tag_name": "books-every-woman-should-read"
                                },
                                {
                                    "tag_id": "7194",
                                    "tag id count": "2",
                                    "tag_name": "christian-woman"
                                },
                                {
                                    "tag_id": "23671",
                                    "tag id count": "2",
                                    "tag_name": "pioneer-woman"
                                },
                                {
                                    "tag_id": "32680",
                                    "tag id count": "2",
                                    "tag_name": "woman-s-fiction"
                                },
                                {
                                    "tag_id": "937",
                                    "tag id count": "1",
                                    "tag_name": "21-books-every-woman-should-read"
                                },
                                {
                                    "tag_id": "1386",
                                    "tag id count": "1",
                                    "tag_name": "a-woman-after-god-s-own-heart"
                                },
                                {
                                    "tag_id": "1387",
                                    "tag id count": "1",
                                    "tag_name": "a-woman-after-gods-own-heart"
                                },
                                {
                                    "tag_id": "4006",
                                    "tag id count": "1",
                                    "tag_name": "batwoman"
                                },
                                {
                                    "tag_id": "4729",
                                    "tag id count": "1",
                                    "tag_name": "black-ops-woman-team-cia-sean-case"
                                },
                                {
                                    "tag_id": "10986",
                                    "tag id count": "1",
                                    "tag_name": "every-woman-should-read"
                                },
                                {
                                    "tag_id": "19757",
                                    "tag id count": "1",
                                    "tag_name": "memorable-woman-characters"
                                },
                                {
                                    "tag_id": "22270",
                                    "tag id count": "1",
                                    "tag_name": "older-woman"
                                },
                                {
                                    "tag_id": "23891",
                                    "tag id count": "1",
                                    "tag_name": "policewoman-potential-victim"
                                },
                                {
                                    "tag_id": "32679",
                                    "tag id count": "1",
                                    "tag_name": "woman-author"
                                },
                                {
                                    "tag_id": "32682",
                                    "tag id count": "1",
                                    "tag_name": "woman-trans-agender-authors"
                                },
                                {
                                    "tag_id": "32684",
                                    "tag id count": "1",
                                    "tag_name": "womans-literature"
                                }
                            ]
                        },
                        "text/html": [
                            "<table>",
                            "<tr><th>tag_id</th><th>tag id count</th><th>tag_name</th></tr>",
                            "<tr><td>32681</td><td>14</td><td>woman-s-murder-club</td></tr>",
                            "<tr><td>32683</td><td>10</td><td>womanhood</td></tr>",
                            "<tr><td>19038</td><td>8</td><td>man-woman</td></tr>",
                            "<tr><td>32685</td><td>8</td><td>womans-murder-club</td></tr>",
                            "<tr><td>4455</td><td>6</td><td>biblical-womanhood</td></tr>",
                            "<tr><td>22269</td><td>5</td><td>older-man-younger-woman</td></tr>",
                            "<tr><td>22271</td><td>4</td><td>older-woman-younger-man</td></tr>",
                            "<tr><td>32740</td><td>4</td><td>wonder-woman</td></tr>",
                            "<tr><td>5132</td><td>2</td><td>books-every-woman-should-read</td></tr>",
                            "<tr><td>7194</td><td>2</td><td>christian-woman</td></tr>",
                            "<tr><td>23671</td><td>2</td><td>pioneer-woman</td></tr>",
                            "<tr><td>32680</td><td>2</td><td>woman-s-fiction</td></tr>",
                            "<tr><td>937</td><td>1</td><td>21-books-every-woman-should-read</td></tr>",
                            "<tr><td>1386</td><td>1</td><td>a-woman-after-god-s-own-heart</td></tr>",
                            "<tr><td>1387</td><td>1</td><td>a-woman-after-gods-own-heart</td></tr>",
                            "<tr><td>4006</td><td>1</td><td>batwoman</td></tr>",
                            "<tr><td>4729</td><td>1</td><td>black-ops-woman-team-cia-sean-case</td></tr>",
                            "<tr><td>10986</td><td>1</td><td>every-woman-should-read</td></tr>",
                            "<tr><td>19757</td><td>1</td><td>memorable-woman-characters</td></tr>",
                            "<tr><td>22270</td><td>1</td><td>older-woman</td></tr>",
                            "<tr><td>23891</td><td>1</td><td>policewoman-potential-victim</td></tr>",
                            "<tr><td>32679</td><td>1</td><td>woman-author</td></tr>",
                            "<tr><td>32682</td><td>1</td><td>woman-trans-agender-authors</td></tr>",
                            "<tr><td>32684</td><td>1</td><td>womans-literature</td></tr>",
                            "</table>"
                        ]
                    }
                }
            ],
            "execution_count": 11
        },
        {
            "cell_type": "markdown",
            "source": [
                "### **Which keyword(s) and tag(s) would you like to explore more?**\n",
                "\n",
                "Double click to edit."
            ],
            "metadata": {
                "azdata_cell_guid": "e9acd8b5-a62b-4ac0-bd07-19915b379ba6"
            },
            "attachments": {}
        },
        {
            "cell_type": "markdown",
            "source": [
                "### **Write a query to return authors, titles, ratings and** **selected tag(s)\\_id.**"
            ],
            "metadata": {
                "azdata_cell_guid": "59b84464-c0bc-4dac-9e02-0c803765b063"
            },
            "attachments": {}
        },
        {
            "cell_type": "code",
            "source": [
                "select authors,title,average_rating,tag_id  from BooksDB.dbo.books b Full join BooksDB.dbo.book_tags bt\r\n",
                "on b.book_id= bt.goodreads_book_id where tag_id =32681\r\n",
                "order by tag_id,average_rating desc"
            ],
            "metadata": {
                "azdata_cell_guid": "51ffeaaf-6dde-4906-95f3-eb8757babf27",
                "tags": [],
                "language": "sql"
            },
            "outputs": [
{
    "output_type": "display_data",
    "data": {
        "text/html": "(14 rows affected)"
    },
    "metadata": {}
}, {
    "output_type": "display_data",
    "data": {
        "text/html": "Total execution time: 00:00:00.119"
    },
    "metadata": {}
}, {
    "output_type": "execute_result",
    "metadata": {},
    "execution_count": 13,
    "data": {
        "application/vnd.dataresource+json": {
            "schema": {
                "fields": [
                    {
                        "name": "authors"
                    },
                    {
                        "name": "title"
                    },
                    {
                        "name": "average_rating"
                    },
                    {
                        "name": "tag_id"
                    }
                ]
            },
            "data": [
                {
                    "authors": "James Patterson, Maxine Paetro",
                    "title": "The 9th Judgment  (Women's Murder Club, #9)",
                    "average_rating": "4.08",
                    "tag_id": "32681"
                },
                {
                    "authors": "James Patterson, Maxine Paetro",
                    "title": "7th Heaven (Women's Murder Club, #7)",
                    "average_rating": "4.06",
                    "tag_id": "32681"
                },
                {
                    "authors": "James Patterson, Maxine Paetro",
                    "title": "10th Anniversary (Women's Murder Club, #10)",
                    "average_rating": "4.05",
                    "tag_id": "32681"
                },
                {
                    "authors": "James Patterson, Maxine Paetro",
                    "title": "4th of July (Women's Murder Club, #4)",
                    "average_rating": "4.04",
                    "tag_id": "32681"
                },
                {
                    "authors": "James Patterson, Maxine Paetro",
                    "title": "15th Affair (Women's Murder Club #15)",
                    "average_rating": "4.04",
                    "tag_id": "32681"
                },
                {
                    "authors": "James Patterson, Maxine Paetro",
                    "title": "The 5th Horseman (Women's Murder Club, #5)",
                    "average_rating": "4.03",
                    "tag_id": "32681"
                },
                {
                    "authors": "James Patterson, Maxine Paetro",
                    "title": "The 6th Target (Women's Murder Club, #6)",
                    "average_rating": "4.02",
                    "tag_id": "32681"
                },
                {
                    "authors": "James Patterson, Maxine Paetro",
                    "title": "11th Hour (Women's Murder Club, #11)",
                    "average_rating": "4.02",
                    "tag_id": "32681"
                },
                {
                    "authors": "James Patterson, Maxine Paetro",
                    "title": "The 8th Confession (Women's Murder Club, #8)",
                    "average_rating": "4.02",
                    "tag_id": "32681"
                },
                {
                    "authors": "James Patterson, Andrew Gross",
                    "title": "2nd Chance (Women's Murder Club, #2)",
                    "average_rating": "4.01",
                    "tag_id": "32681"
                },
                {
                    "authors": "James Patterson, Andrew Gross",
                    "title": "3rd Degree (Women's Murder Club, #3)",
                    "average_rating": "4",
                    "tag_id": "32681"
                },
                {
                    "authors": "James Patterson, Maxine Paetro",
                    "title": "12th of Never (Women's Murder Club, #12)",
                    "average_rating": "3.99",
                    "tag_id": "32681"
                },
                {
                    "authors": "James Patterson, Maxine Paetro",
                    "title": "14th Deadly Sin (Women’s Murder Club, #14)",
                    "average_rating": "3.99",
                    "tag_id": "32681"
                },
                {
                    "authors": "James Patterson, Maxine Paetro",
                    "title": "Unlucky 13 (Women’s Murder Club, #13)",
                    "average_rating": "3.94",
                    "tag_id": "32681"
                }
            ]
        },
        "text/html": [
            "<table>",
            "<tr><th>authors</th><th>title</th><th>average_rating</th><th>tag_id</th></tr>",
            "<tr><td>James Patterson, Maxine Paetro</td><td>The 9th Judgment  (Women&#39;s Murder Club, #9)</td><td>4.08</td><td>32681</td></tr>",
            "<tr><td>James Patterson, Maxine Paetro</td><td>7th Heaven (Women&#39;s Murder Club, #7)</td><td>4.06</td><td>32681</td></tr>",
            "<tr><td>James Patterson, Maxine Paetro</td><td>10th Anniversary (Women&#39;s Murder Club, #10)</td><td>4.05</td><td>32681</td></tr>",
            "<tr><td>James Patterson, Maxine Paetro</td><td>4th of July (Women&#39;s Murder Club, #4)</td><td>4.04</td><td>32681</td></tr>",
            "<tr><td>James Patterson, Maxine Paetro</td><td>15th Affair (Women&#39;s Murder Club #15)</td><td>4.04</td><td>32681</td></tr>",
            "<tr><td>James Patterson, Maxine Paetro</td><td>The 5th Horseman (Women&#39;s Murder Club, #5)</td><td>4.03</td><td>32681</td></tr>",
            "<tr><td>James Patterson, Maxine Paetro</td><td>The 6th Target (Women&#39;s Murder Club, #6)</td><td>4.02</td><td>32681</td></tr>",
            "<tr><td>James Patterson, Maxine Paetro</td><td>11th Hour (Women&#39;s Murder Club, #11)</td><td>4.02</td><td>32681</td></tr>",
            "<tr><td>James Patterson, Maxine Paetro</td><td>The 8th Confession (Women&#39;s Murder Club, #8)</td><td>4.02</td><td>32681</td></tr>",
            "<tr><td>James Patterson, Andrew Gross</td><td>2nd Chance (Women&#39;s Murder Club, #2)</td><td>4.01</td><td>32681</td></tr>",
            "<tr><td>James Patterson, Andrew Gross</td><td>3rd Degree (Women&#39;s Murder Club, #3)</td><td>4</td><td>32681</td></tr>",
            "<tr><td>James Patterson, Maxine Paetro</td><td>12th of Never (Women&#39;s Murder Club, #12)</td><td>3.99</td><td>32681</td></tr>",
            "<tr><td>James Patterson, Maxine Paetro</td><td>14th Deadly Sin (Women’s Murder Club, #14)</td><td>3.99</td><td>32681</td></tr>",
            "<tr><td>James Patterson, Maxine Paetro</td><td>Unlucky 13 (Women’s Murder Club, #13)</td><td>3.94</td><td>32681</td></tr>",
            "</table>"
        ]
    }
}
],
            "execution_count": 13
        },
        {
            "cell_type": "markdown",
            "source": [
                "### **Record your thoughts about why you wrote the query the way you did.**"
            ],
            "metadata": {
                "azdata_cell_guid": "1e19a72c-1bca-446b-a0c7-a8efbc35dcf1"
            },
            "attachments": {}
        },
        {
            "cell_type": "markdown",
            "source": [
                "# Part 2: Choose Another Month\n",
                "\n",
                "Choose another month and plan at least 2 events / promotions and answer the following questions.\n",
                "\n",
                "Which month did you choose?  \n",
                "\n",
                "What 2 events / promotions are you highlighting?\n",
                "\n",
                "> 1.\n",
                "\n",
                "> 2."
            ],
            "metadata": {
                "azdata_cell_guid": "3eaf376d-9de3-4553-a9d0-9caf74ee3d6a"
            },
            "attachments": {}
        },
        {
            "cell_type": "markdown",
            "source": [
                "# Part 3: Summarize your Work\n",
                "\n",
                "For each event write at least one query that joins any two tables in the BooksDB to support your choice and record you thoughts as to why you used the paticlular query. At least one of your queries needs to include a HAVING clause."
            ],
            "metadata": {
                "azdata_cell_guid": "1ba1363a-4f02-4962-a95a-93b80c5926b1"
            },
            "attachments": {}
        },
        {
            "cell_type": "code",
            "source": [
                "-- Event 1 Query"
            ],
            "metadata": {
                "azdata_cell_guid": "f50d32ce-4cb2-4af2-acb1-607777a76cf8",
                "language": "sql"
            },
            "outputs": [],
            "execution_count": null
        },
        {
            "cell_type": "code",
            "source": [
                ""
            ],
            "metadata": {
                "azdata_cell_guid": "5606f7f2-c46b-42d3-ac64-7ae21c3394f8",
                "language": "sql"
            },
            "outputs": [],
            "execution_count": null
        },
        {
            "cell_type": "markdown",
            "source": [
                "### **Summary of event 1:**\n",
                "\n",
                "Double Click to edit."
            ],
            "metadata": {
                "azdata_cell_guid": "3bc72d4c-077b-42d3-9528-9aff8e7b6cf3"
            },
            "attachments": {}
        },
        {
            "cell_type": "code",
            "source": [
                "-- Event 2 Query"
            ],
            "metadata": {
                "azdata_cell_guid": "dca0a98f-065f-4b0e-9d93-fcb01cad668c",
                "language": "sql"
            },
            "outputs": [],
            "execution_count": null
        },
        {
            "cell_type": "code",
            "source": [
                ""
            ],
            "metadata": {
                "azdata_cell_guid": "3aaae3a8-eff7-4b37-8970-2d913a67239b",
                "language": "sql"
            },
            "outputs": [],
            "execution_count": null
        },
        {
            "cell_type": "markdown",
            "source": [
                "### **Summary of event 2:**\n",
                "\n",
                "Double Click to edit."
            ],
            "metadata": {
                "azdata_cell_guid": "99d518dc-cd8b-42d6-9a9d-708771c9aa99"
            },
            "attachments": {}
        }
    ]
}